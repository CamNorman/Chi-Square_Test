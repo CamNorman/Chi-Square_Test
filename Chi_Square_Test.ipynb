{
  "nbformat": 4,
  "nbformat_minor": 0,
  "metadata": {
    "colab": {
      "provenance": []
    },
    "kernelspec": {
      "name": "python3",
      "display_name": "Python 3"
    },
    "language_info": {
      "name": "python"
    }
  },
  "cells": [
    {
      "cell_type": "code",
      "source": [
        "list[1,3,1,3,5,6,12]\n",
        "list.count(1)"
      ],
      "metadata": {
        "id": "C_jYFS99grt5"
      },
      "execution_count": null,
      "outputs": []
    },
    {
      "cell_type": "code",
      "source": [
        "# Import the libraries\n",
        "import numpy as np\n",
        "from scipy.stats import chi2_contingency\n",
        "\n",
        "# Create the table using as a NumPy array\n",
        "table = np.array([[200, 290], [400, 910]])\n",
        "\n",
        "# Print out the table to double-check\n",
        "print('Contingency table: \\n', table)\n",
        "\n",
        "# Perform the chi-square test\n",
        "stat, p, dof, expected = chi2_contingency(table, correction=False)\n",
        "\n",
        "# Print out the stats in a nice format\n",
        "print('Expected values: \\n ', expected.round(2))\n",
        "print(f'The chi square statistics is: {stat:.3f}')\n",
        "print(f'The p value is: {p:.6f}')"
      ],
      "metadata": {
        "colab": {
          "base_uri": "https://localhost:8080/"
        },
        "id": "GCSg_MweZLBc",
        "outputId": "d7779339-0bf1-4f25-f842-12ef619fc136"
      },
      "execution_count": null,
      "outputs": [
        {
          "output_type": "stream",
          "name": "stdout",
          "text": [
            "Contingency table: \n",
            " [[200 290]\n",
            " [400 910]]\n",
            "Expected values: \n",
            "  [[163.33 326.67]\n",
            " [436.67 873.33]]\n",
            "The chi square statistics is: 16.965\n",
            "The p value is: 0.000038\n"
          ]
        }
      ]
    },
    {
      "cell_type": "code",
      "source": [
        "import numpy as np\n",
        "\n",
        "# Create the array for each die value\n",
        "a1 = [13, 7, 10, 5, 13]\n",
        "a2 = [5, 7, 4, 12, 9]\n",
        "a3 = [5, 9, 14, 0, 10]\n",
        "a4 = [12, 13, 8, 7, 7]\n",
        "a5 = [7, 10, 9, 13, 6]\n",
        "a6 = [8, 4, 5, 13, 5]\n",
        "\n",
        "# Combine them into a (6,5) array\n",
        "dice = np.array([a1, a2, a3, a4, a5, a6])"
      ],
      "metadata": {
        "id": "LIWfxjNwbnEv"
      },
      "execution_count": null,
      "outputs": []
    },
    {
      "cell_type": "code",
      "source": [
        "# Import the stats module\n",
        "from scipy.stats import chi2_contingency\n",
        "\n",
        "# Perform the chi-square test\n",
        "stat, p, dof, expected = chi2_contingency(dice, correction=False)\n",
        "\n",
        "# Print out the stats in a nice format\n",
        "print('Expected values: \\n ', expected.round(2))\n",
        "print('The degrees of freedom: ', dof)\n",
        "print(f'The chi square statistics is: {stat:.3f}')\n",
        "print(f'The p value is: {p:.6f}')"
      ],
      "metadata": {
        "colab": {
          "base_uri": "https://localhost:8080/"
        },
        "id": "npG5GKPgkQvO",
        "outputId": "d036d244-1f29-479a-ebb0-75c844661099"
      },
      "execution_count": null,
      "outputs": [
        {
          "output_type": "stream",
          "name": "stdout",
          "text": [
            "Expected values: \n",
            "  [[9.6 9.6 9.6 9.6 9.6]\n",
            " [7.4 7.4 7.4 7.4 7.4]\n",
            " [7.6 7.6 7.6 7.6 7.6]\n",
            " [9.4 9.4 9.4 9.4 9.4]\n",
            " [9.  9.  9.  9.  9. ]\n",
            " [7.  7.  7.  7.  7. ]]\n",
            "The degrees of freedom:  20\n",
            "The chi square statistics is: 40.375\n",
            "The p value is: 0.004477\n"
          ]
        }
      ]
    },
    {
      "cell_type": "code",
      "source": [],
      "metadata": {
        "id": "DBr8B8djkeYU"
      },
      "execution_count": null,
      "outputs": []
    }
  ]
}